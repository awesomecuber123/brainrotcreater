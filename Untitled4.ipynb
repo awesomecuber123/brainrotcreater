{
  "nbformat": 4,
  "nbformat_minor": 0,
  "metadata": {
    "colab": {
      "provenance": [],
      "authorship_tag": "ABX9TyOggtJ90I3Tm6mLXnH3gprg",
      "include_colab_link": true
    },
    "kernelspec": {
      "name": "python3",
      "display_name": "Python 3"
    },
    "language_info": {
      "name": "python"
    }
  },
  "cells": [
    {
      "cell_type": "markdown",
      "metadata": {
        "id": "view-in-github",
        "colab_type": "text"
      },
      "source": [
        "<a href=\"https://colab.research.google.com/github/awesomecuber123/brainrotcreater/blob/main/Untitled4.ipynb\" target=\"_parent\"><img src=\"https://colab.research.google.com/assets/colab-badge.svg\" alt=\"Open In Colab\"/></a>"
      ]
    },
    {
      "cell_type": "code",
      "execution_count": null,
      "metadata": {
        "id": "lDK4VNfbr5D6"
      },
      "outputs": [],
      "source": [
        "!apt-get install ffmpeg\n",
        "!jupyter nbconvert --to html your_notebook.ipynb\n",
        "!pip install flask\n",
        "from google.colab import files\n",
        "import subprocess\n",
        "\n",
        "\n",
        "# Function to process video\n",
        "def process_video(input_file, output_file):\n",
        "    # Speed up video by 2x and reduce quality\n",
        "    command = [\n",
        "        \"ffmpeg\", \"-i\", input_file,\n",
        "        \"-filter:v\", \"setpts=0.5*PTS\",\n",
        "        \"-b:v\", \"500k\", output_file\n",
        "    ]\n",
        "    subprocess.run(command)\n",
        "\n",
        "\n",
        "# Upload a video file\n",
        "print(\"Upload a video file:\")\n",
        "uploaded = files.upload()\n",
        "input_file = list(uploaded.keys())[0]\n",
        "\n",
        "\n",
        "# Process the video\n",
        "output_file = \"processed_video.mp4\"\n",
        "process_video(input_file, output_file)\n",
        "\n",
        "\n",
        "# Download the processed video\n",
        "print(\"Download the processed video:\")\n",
        "files.download(output_file)\n",
        "from flask import Flask, request, send_file, render_template\n",
        "import subprocess\n",
        "\n",
        "\n",
        "app = Flask(__name__)\n",
        "\n",
        "\n",
        "@app.route('/')\n",
        "def home():\n",
        "    return '''\n",
        "    <h1>Video Processor</h1>\n",
        "    <form action=\"/process\" method=\"post\" enctype=\"multipart/form-data\">\n",
        "        <input type=\"file\" name=\"video\" accept=\"video/*\" />\n",
        "        <button type=\"submit\">Upload and Process</button>\n",
        "    </form>\n",
        "    '''\n",
        "\n",
        "\n",
        "@app.route('/process', methods=['POST'])\n",
        "def process():\n",
        "    video = request.files['video']\n",
        "    input_file = \"input.mp4\"\n",
        "    video.save(input_file)\n",
        "\n",
        "\n",
        "    output_file = \"output.mp4\"\n",
        "    subprocess.run([\n",
        "        \"ffmpeg\", \"-i\", input_file, \"-filter:v\", \"setpts=0.5*PTS\", \"-b:v\", \"500k\", output_file\n",
        "    ])\n",
        "\n",
        "\n",
        "    return send_file(output_file, as_attachment=True)\n"
      ]
    }
  ]
}